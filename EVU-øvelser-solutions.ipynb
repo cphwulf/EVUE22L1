{
 "cells": [
  {
   "cell_type": "markdown",
   "metadata": {},
   "source": [
    "## Numbers"
   ]
  },
  {
   "cell_type": "markdown",
   "metadata": {},
   "source": [
    "pow(6,?) skal give 216"
   ]
  },
  {
   "cell_type": "code",
   "execution_count": null,
   "metadata": {},
   "outputs": [],
   "source": [
    "pow(6,3)"
   ]
  },
  {
   "cell_type": "markdown",
   "metadata": {},
   "source": [
    "19/7 skal printe 2\n",
    "\n",
    "\n"
   ]
  },
  {
   "cell_type": "code",
   "execution_count": null,
   "metadata": {},
   "outputs": [],
   "source": [
    "int(19/7)"
   ]
  },
  {
   "cell_type": "markdown",
   "metadata": {},
   "source": [
    "10-997 skal printe 987"
   ]
  },
  {
   "cell_type": "code",
   "execution_count": null,
   "metadata": {},
   "outputs": [],
   "source": [
    "abs(10-997)"
   ]
  },
  {
   "cell_type": "markdown",
   "metadata": {},
   "source": [
    "19/7 skal printe 2.71"
   ]
  },
  {
   "cell_type": "code",
   "execution_count": null,
   "metadata": {},
   "outputs": [],
   "source": [
    "round(19/7,2)"
   ]
  },
  {
   "cell_type": "markdown",
   "metadata": {},
   "source": [
    "print(\"997+3=\") skal printe 997+3=1000 vha udregning"
   ]
  },
  {
   "cell_type": "markdown",
   "metadata": {},
   "source": [
    "print(\"997+3=\"+str(997+3))"
   ]
  },
  {
   "cell_type": "markdown",
   "metadata": {},
   "source": [
    "13 + 5  * 2  - 4 skal give 32"
   ]
  },
  {
   "cell_type": "code",
   "execution_count": null,
   "metadata": {},
   "outputs": [],
   "source": [
    "(13+5)*2-4"
   ]
  },
  {
   "cell_type": "markdown",
   "metadata": {},
   "source": [
    "13 + 5  * 2 - 4  / 2 - 13 skal give 3.0"
   ]
  },
  {
   "cell_type": "code",
   "execution_count": null,
   "metadata": {},
   "outputs": [],
   "source": [
    "(5 * 2 - 4) / 2"
   ]
  },
  {
   "cell_type": "markdown",
   "metadata": {},
   "source": [
    "## Lister"
   ]
  },
  {
   "cell_type": "markdown",
   "metadata": {},
   "source": [
    "Lav en liste på 10 tal. Læg dem sammen og udregn gennemsnittet"
   ]
  },
  {
   "cell_type": "code",
   "execution_count": null,
   "metadata": {},
   "outputs": [],
   "source": [
    "sum=0\n",
    "tal=[3,5,1,9,43,2,34,4,6,1]\n",
    "for num in tal:\n",
    "    sum=sum+num\n",
    "print(sum/len(tal))"
   ]
  },
  {
   "cell_type": "markdown",
   "metadata": {},
   "source": [
    "Lav igen 10 tal - men nu tilfældige tal mellem 0 og 100. Læg sammen og beregn gennemsnit"
   ]
  },
  {
   "cell_type": "code",
   "execution_count": null,
   "metadata": {},
   "outputs": [],
   "source": [
    "from random import randint\n",
    "tal=[]\n",
    "sum=0\n",
    "for num in range(10):\n",
    "    tal.append(randint(0,100))\n",
    "print(tal)    \n",
    "for num in tal:\n",
    "    sum=sum+num\n",
    "print(sum/len(tal)) "
   ]
  },
  {
   "cell_type": "code",
   "execution_count": 62,
   "metadata": {},
   "outputs": [],
   "source": [
    "l=range(10)"
   ]
  },
  {
   "cell_type": "code",
   "execution_count": 47,
   "metadata": {},
   "outputs": [],
   "source": [
    "tal=[randint(0,100) for num in range(10)]"
   ]
  },
  {
   "cell_type": "markdown",
   "metadata": {},
   "source": [
    "## Lister - Biler"
   ]
  },
  {
   "cell_type": "code",
   "execution_count": 49,
   "metadata": {},
   "outputs": [],
   "source": [
    "cars=[]\n",
    "fh=open('cars.csv','r')\n",
    "lines=fh.readlines()"
   ]
  },
  {
   "cell_type": "markdown",
   "metadata": {},
   "source": [
    "Hvor mange linjer er der i listen?"
   ]
  },
  {
   "cell_type": "code",
   "execution_count": null,
   "metadata": {},
   "outputs": [],
   "source": [
    "len(lines)"
   ]
  },
  {
   "cell_type": "markdown",
   "metadata": {},
   "source": [
    "print første linje"
   ]
  },
  {
   "cell_type": "code",
   "execution_count": null,
   "metadata": {},
   "outputs": [],
   "source": [
    "print(lines[0])"
   ]
  },
  {
   "cell_type": "markdown",
   "metadata": {},
   "source": [
    "pop første linje og gem i en ny variabel, kald den header"
   ]
  },
  {
   "cell_type": "code",
   "execution_count": 17,
   "metadata": {},
   "outputs": [],
   "source": [
    "header=lines.pop(0)"
   ]
  },
  {
   "cell_type": "markdown",
   "metadata": {},
   "source": [
    "Split den tiende linje på \";\" og gem i en variabel.\n",
    "Print variablens type"
   ]
  },
  {
   "cell_type": "code",
   "execution_count": 53,
   "metadata": {},
   "outputs": [],
   "source": [
    "myAudi=lines[9].split(\";\")"
   ]
  },
  {
   "cell_type": "code",
   "execution_count": null,
   "metadata": {},
   "outputs": [],
   "source": [
    "print(type(myAudi))"
   ]
  },
  {
   "cell_type": "markdown",
   "metadata": {},
   "source": [
    "Definer en variabel MPG_City_Average\n",
    "Loop nu alle biler igennem, split hver linje på \";\" og træk nu kun det tal ud for hver bil der angiver MPG_City. Læg dem sammen og print til sidst det gennemsnitlige forbrud ud for det samlede antal biler"
   ]
  },
  {
   "cell_type": "code",
   "execution_count": null,
   "metadata": {},
   "outputs": [],
   "source": [
    "for car in lines:\n",
    "    mytmpcarlist=car.split(\";\")\n",
    "    print(len(mytmpcarlist))"
   ]
  },
  {
   "cell_type": "code",
   "execution_count": null,
   "metadata": {},
   "outputs": [],
   "source": [
    "for car in lines:\n",
    "    mytmpcarlist=car.split(\";\")\n",
    "    print(mytmpcarlist[5])"
   ]
  },
  {
   "cell_type": "code",
   "execution_count": null,
   "metadata": {},
   "outputs": [],
   "source": [
    "totalMPG=0\n",
    "for car in lines:\n",
    "    mytmpcarlist=car.split(\";\")\n",
    "    tmpMPG=mytmpcarlist[5]\n",
    "    totalMPG=totalMPG+int(tmpMPG)\n",
    "print(\"TOTAL: \" + str(totalMPG/len(lines)))    "
   ]
  },
  {
   "cell_type": "markdown",
   "metadata": {},
   "source": [
    "# Lister og conditions"
   ]
  },
  {
   "cell_type": "markdown",
   "metadata": {},
   "source": [
    "#### Booleans"
   ]
  },
  {
   "cell_type": "markdown",
   "metadata": {},
   "source": [
    "res=not(7<1) or (7 > 4) kan den blive til falsk vha parentes?"
   ]
  },
  {
   "cell_type": "code",
   "execution_count": null,
   "metadata": {},
   "outputs": [],
   "source": [
    "res=not((7<1) or (7>4))\n",
    "print(res)"
   ]
  },
  {
   "cell_type": "markdown",
   "metadata": {},
   "source": [
    "## Conditions og biler"
   ]
  },
  {
   "cell_type": "markdown",
   "metadata": {},
   "source": [
    "Lav en liste og put alle BMW'er i listen"
   ]
  },
  {
   "cell_type": "code",
   "execution_count": null,
   "metadata": {},
   "outputs": [],
   "source": [
    "print(lines[26])"
   ]
  },
  {
   "cell_type": "code",
   "execution_count": null,
   "metadata": {},
   "outputs": [],
   "source": [
    "totalMPG=0\n",
    "bmwCars=list()\n",
    "\n",
    "for car in lines:\n",
    "    mytmpcarlist=car.split(\";\")\n",
    "    tmpCarName=mytmpcarlist[1].lower()\n",
    "    if tmpCarName.find(\"bmw\") != -1:\n",
    "        print(tmpCarName)\n",
    "        bmwCars.append(car)\n",
    "        #put BMW i liste for sig\n",
    "    else:\n",
    "        print(\"Jeg er ikke en bmw: \"+tmpCarName)\n",
    "        \n",
    "print(\"TOTAL: \" + str(len(bmwCars))) "
   ]
  },
  {
   "cell_type": "code",
   "execution_count": null,
   "metadata": {},
   "outputs": [],
   "source": [
    "Lav en liste med biler der bruger mere end gennemsnittet i bilkørsel. Print antallet af biler i hver."
   ]
  },
  {
   "cell_type": "code",
   "execution_count": null,
   "metadata": {},
   "outputs": [],
   "source": [
    "goodC=[]\n",
    "badC=[]\n",
    "for car in lines:\n",
    "    tmpMPGC=int(car.split(\";\")[5])\n",
    "    if tmpMPGC < 20:\n",
    "        goodC.append(car)\n",
    "    else:\n",
    "        badC.append(car)\n",
    "print(len(goodC))\n",
    "print(len(badC))"
   ]
  },
  {
   "cell_type": "markdown",
   "metadata": {},
   "source": [
    "Som ovenfor men nu i tre segmenter. 0-14, 14-22 og 22-\n",
    "Den skal printe: badC: 107 mediumC: 303 goodC 18"
   ]
  },
  {
   "cell_type": "markdown",
   "metadata": {},
   "source": [
    "Første udgave er den \"rigtige\" med elif"
   ]
  },
  {
   "cell_type": "code",
   "execution_count": null,
   "metadata": {},
   "outputs": [],
   "source": [
    "goodC=[]\n",
    "badC=[]\n",
    "verybadC=[]\n",
    "for car in lines:\n",
    "    tmpMPGC=int(car.split(\";\")[5])\n",
    "    if tmpMPGC < 15:\n",
    "        goodC.append(car)\n",
    "    elif tmpMPGC < 24:\n",
    "        badC.append(car)\n",
    "    else:\n",
    "        verybadC.append(car)\n",
    "print(len(goodC))\n",
    "print(len(badC))\n",
    "print(len(verybadC))\n",
    "print(f'Total: {len(goodC)+len(badC)+len(verybadC)}')"
   ]
  },
  {
   "cell_type": "markdown",
   "metadata": {},
   "source": [
    "Denne udgave viser hvordan man skal passe på hvis man ikke bruger elif"
   ]
  },
  {
   "cell_type": "code",
   "execution_count": null,
   "metadata": {},
   "outputs": [],
   "source": [
    "goodC=[]\n",
    "badC=[]\n",
    "verybadC=[]\n",
    "for car in lines:\n",
    "    tmpMPGC=int(car.split(\";\")[5])\n",
    "    if tmpMPGC < 15:\n",
    "        goodC.append(car)\n",
    "    if (tmpMPGC < 24) and (tmpMPGC > 15):\n",
    "        badC.append(car)\n",
    "    if tmpMPGC >= 24:\n",
    "        verybadC.append(car)\n",
    "print(len(goodC))\n",
    "print(len(badC))\n",
    "print(len(verybadC))\n",
    "print(\"TOtal:\"+ str((len(goodC)+len(badC)+len(verybadC))))"
   ]
  },
  {
   "cell_type": "markdown",
   "metadata": {},
   "source": [
    "## Conditions og strenge"
   ]
  },
  {
   "cell_type": "markdown",
   "metadata": {},
   "source": [
    "Kør nedenståend kode og lav derpå en liste over firmaer der begynder med et tal"
   ]
  },
  {
   "cell_type": "code",
   "execution_count": 65,
   "metadata": {},
   "outputs": [],
   "source": [
    "cars=[]\n",
    "fh=open('/Users/thor/Git/EVUF22LES1/revisionsfirmaer42','r')\n",
    "lines=fh.readlines()"
   ]
  },
  {
   "cell_type": "code",
   "execution_count": null,
   "metadata": {},
   "outputs": [],
   "source": [
    "numberAuditFirms=[]\n",
    "for line in lines:\n",
    "    if (line[0].isdigit()):\n",
    "        numberAuditFirms.append(line)\n",
    "print(numberAuditFirms)"
   ]
  },
  {
   "cell_type": "code",
   "execution_count": null,
   "metadata": {},
   "outputs": [],
   "source": []
  }
 ],
 "metadata": {
  "kernelspec": {
   "display_name": "Python 3",
   "language": "python",
   "name": "python3"
  },
  "language_info": {
   "codemirror_mode": {
    "name": "ipython",
    "version": 3
   },
   "file_extension": ".py",
   "mimetype": "text/x-python",
   "name": "python",
   "nbconvert_exporter": "python",
   "pygments_lexer": "ipython3",
   "version": "3.7.6"
  }
 },
 "nbformat": 4,
 "nbformat_minor": 4
}
